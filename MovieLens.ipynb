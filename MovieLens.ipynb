{
  "nbformat": 4,
  "nbformat_minor": 0,
  "metadata": {
    "colab": {
      "name": "MovieLens",
      "provenance": [],
      "collapsed_sections": []
    },
    "kernelspec": {
      "name": "python3",
      "display_name": "Python 3"
    },
    "language_info": {
      "name": "python"
    }
  },
  "cells": [
    {
      "cell_type": "code",
      "metadata": {
        "colab": {
          "base_uri": "https://localhost:8080/"
        },
        "id": "_5s8rePPwWI6",
        "outputId": "b703efe5-c46d-4c1b-bb8d-ac4f29ad6461"
      },
      "source": [
        "!pip install kaggle\n",
        "! mkdir ~/.kaggle\n",
        "! cp kaggle.json ~/.kaggle/\n",
        "! chmod 600 ~/.kaggle/kaggle.json"
      ],
      "execution_count": null,
      "outputs": [
        {
          "output_type": "stream",
          "name": "stdout",
          "text": [
            "Requirement already satisfied: kaggle in /usr/local/lib/python3.7/dist-packages (1.5.12)\n",
            "Requirement already satisfied: python-dateutil in /usr/local/lib/python3.7/dist-packages (from kaggle) (2.8.2)\n",
            "Requirement already satisfied: requests in /usr/local/lib/python3.7/dist-packages (from kaggle) (2.23.0)\n",
            "Requirement already satisfied: six>=1.10 in /usr/local/lib/python3.7/dist-packages (from kaggle) (1.15.0)\n",
            "Requirement already satisfied: python-slugify in /usr/local/lib/python3.7/dist-packages (from kaggle) (5.0.2)\n",
            "Requirement already satisfied: urllib3 in /usr/local/lib/python3.7/dist-packages (from kaggle) (1.24.3)\n",
            "Requirement already satisfied: tqdm in /usr/local/lib/python3.7/dist-packages (from kaggle) (4.62.3)\n",
            "Requirement already satisfied: certifi in /usr/local/lib/python3.7/dist-packages (from kaggle) (2021.10.8)\n",
            "Requirement already satisfied: text-unidecode>=1.3 in /usr/local/lib/python3.7/dist-packages (from python-slugify->kaggle) (1.3)\n",
            "Requirement already satisfied: chardet<4,>=3.0.2 in /usr/local/lib/python3.7/dist-packages (from requests->kaggle) (3.0.4)\n",
            "Requirement already satisfied: idna<3,>=2.5 in /usr/local/lib/python3.7/dist-packages (from requests->kaggle) (2.10)\n",
            "mkdir: cannot create directory ‘/root/.kaggle’: File exists\n"
          ]
        }
      ]
    },
    {
      "cell_type": "code",
      "metadata": {
        "colab": {
          "base_uri": "https://localhost:8080/"
        },
        "id": "eOlxjjUlxgM9",
        "outputId": "edfdae09-6915-447a-c2a9-7e83c765e545"
      },
      "source": [
        "!kaggle datasets download -d rounakbanik/the-movies-dataset"
      ],
      "execution_count": null,
      "outputs": [
        {
          "output_type": "stream",
          "name": "stdout",
          "text": [
            "the-movies-dataset.zip: Skipping, found more recently modified local copy (use --force to force download)\n"
          ]
        }
      ]
    },
    {
      "cell_type": "code",
      "metadata": {
        "colab": {
          "base_uri": "https://localhost:8080/"
        },
        "id": "47pLhTxRwaBO",
        "outputId": "c03c107a-60ea-435d-941d-0df604e2fa0f"
      },
      "source": [
        "! unzip the-movies-dataset.zip"
      ],
      "execution_count": null,
      "outputs": [
        {
          "output_type": "stream",
          "name": "stdout",
          "text": [
            "Archive:  the-movies-dataset.zip\n",
            "replace credits.csv? [y]es, [n]o, [A]ll, [N]one, [r]ename: A\n",
            "  inflating: credits.csv             \n",
            "  inflating: keywords.csv            \n",
            "  inflating: links.csv               \n",
            "  inflating: links_small.csv         \n",
            "  inflating: movies_metadata.csv     \n",
            "  inflating: ratings.csv             \n",
            "  inflating: ratings_small.csv       \n"
          ]
        }
      ]
    },
    {
      "cell_type": "code",
      "metadata": {
        "id": "mJY1zP6gwnf7"
      },
      "source": [
        "import pandas as pd"
      ],
      "execution_count": null,
      "outputs": []
    },
    {
      "cell_type": "code",
      "metadata": {
        "id": "KyLCKZ36yS0c"
      },
      "source": [
        "rating = pd.read_csv('ratings_small.csv')"
      ],
      "execution_count": null,
      "outputs": []
    },
    {
      "cell_type": "code",
      "metadata": {
        "colab": {
          "base_uri": "https://localhost:8080/",
          "height": 204
        },
        "id": "ZOrvU8smyVg1",
        "outputId": "da9d46b6-639c-4dd5-8a1e-84e699a630ac"
      },
      "source": [
        "rating.head()"
      ],
      "execution_count": null,
      "outputs": [
        {
          "output_type": "execute_result",
          "data": {
            "text/html": [
              "<div>\n",
              "<style scoped>\n",
              "    .dataframe tbody tr th:only-of-type {\n",
              "        vertical-align: middle;\n",
              "    }\n",
              "\n",
              "    .dataframe tbody tr th {\n",
              "        vertical-align: top;\n",
              "    }\n",
              "\n",
              "    .dataframe thead th {\n",
              "        text-align: right;\n",
              "    }\n",
              "</style>\n",
              "<table border=\"1\" class=\"dataframe\">\n",
              "  <thead>\n",
              "    <tr style=\"text-align: right;\">\n",
              "      <th></th>\n",
              "      <th>userId</th>\n",
              "      <th>movieId</th>\n",
              "      <th>rating</th>\n",
              "      <th>timestamp</th>\n",
              "    </tr>\n",
              "  </thead>\n",
              "  <tbody>\n",
              "    <tr>\n",
              "      <th>0</th>\n",
              "      <td>1</td>\n",
              "      <td>31</td>\n",
              "      <td>2.5</td>\n",
              "      <td>1260759144</td>\n",
              "    </tr>\n",
              "    <tr>\n",
              "      <th>1</th>\n",
              "      <td>1</td>\n",
              "      <td>1029</td>\n",
              "      <td>3.0</td>\n",
              "      <td>1260759179</td>\n",
              "    </tr>\n",
              "    <tr>\n",
              "      <th>2</th>\n",
              "      <td>1</td>\n",
              "      <td>1061</td>\n",
              "      <td>3.0</td>\n",
              "      <td>1260759182</td>\n",
              "    </tr>\n",
              "    <tr>\n",
              "      <th>3</th>\n",
              "      <td>1</td>\n",
              "      <td>1129</td>\n",
              "      <td>2.0</td>\n",
              "      <td>1260759185</td>\n",
              "    </tr>\n",
              "    <tr>\n",
              "      <th>4</th>\n",
              "      <td>1</td>\n",
              "      <td>1172</td>\n",
              "      <td>4.0</td>\n",
              "      <td>1260759205</td>\n",
              "    </tr>\n",
              "  </tbody>\n",
              "</table>\n",
              "</div>"
            ],
            "text/plain": [
              "   userId  movieId  rating   timestamp\n",
              "0       1       31     2.5  1260759144\n",
              "1       1     1029     3.0  1260759179\n",
              "2       1     1061     3.0  1260759182\n",
              "3       1     1129     2.0  1260759185\n",
              "4       1     1172     4.0  1260759205"
            ]
          },
          "metadata": {},
          "execution_count": 38
        }
      ]
    },
    {
      "cell_type": "code",
      "metadata": {
        "id": "WyTl3-gaKSRq"
      },
      "source": [
        "rating = rating.iloc[:,0:3]"
      ],
      "execution_count": null,
      "outputs": []
    },
    {
      "cell_type": "code",
      "metadata": {
        "colab": {
          "base_uri": "https://localhost:8080/",
          "height": 204
        },
        "id": "V3iLVzcgO9Kr",
        "outputId": "36e9cd42-d568-4c1a-a906-028ba2333861"
      },
      "source": [
        "rating.head()"
      ],
      "execution_count": null,
      "outputs": [
        {
          "output_type": "execute_result",
          "data": {
            "text/html": [
              "<div>\n",
              "<style scoped>\n",
              "    .dataframe tbody tr th:only-of-type {\n",
              "        vertical-align: middle;\n",
              "    }\n",
              "\n",
              "    .dataframe tbody tr th {\n",
              "        vertical-align: top;\n",
              "    }\n",
              "\n",
              "    .dataframe thead th {\n",
              "        text-align: right;\n",
              "    }\n",
              "</style>\n",
              "<table border=\"1\" class=\"dataframe\">\n",
              "  <thead>\n",
              "    <tr style=\"text-align: right;\">\n",
              "      <th></th>\n",
              "      <th>userId</th>\n",
              "      <th>movieId</th>\n",
              "      <th>rating</th>\n",
              "    </tr>\n",
              "  </thead>\n",
              "  <tbody>\n",
              "    <tr>\n",
              "      <th>0</th>\n",
              "      <td>1</td>\n",
              "      <td>31</td>\n",
              "      <td>2.5</td>\n",
              "    </tr>\n",
              "    <tr>\n",
              "      <th>1</th>\n",
              "      <td>1</td>\n",
              "      <td>1029</td>\n",
              "      <td>3.0</td>\n",
              "    </tr>\n",
              "    <tr>\n",
              "      <th>2</th>\n",
              "      <td>1</td>\n",
              "      <td>1061</td>\n",
              "      <td>3.0</td>\n",
              "    </tr>\n",
              "    <tr>\n",
              "      <th>3</th>\n",
              "      <td>1</td>\n",
              "      <td>1129</td>\n",
              "      <td>2.0</td>\n",
              "    </tr>\n",
              "    <tr>\n",
              "      <th>4</th>\n",
              "      <td>1</td>\n",
              "      <td>1172</td>\n",
              "      <td>4.0</td>\n",
              "    </tr>\n",
              "  </tbody>\n",
              "</table>\n",
              "</div>"
            ],
            "text/plain": [
              "   userId  movieId  rating\n",
              "0       1       31     2.5\n",
              "1       1     1029     3.0\n",
              "2       1     1061     3.0\n",
              "3       1     1129     2.0\n",
              "4       1     1172     4.0"
            ]
          },
          "metadata": {},
          "execution_count": 40
        }
      ]
    },
    {
      "cell_type": "markdown",
      "metadata": {
        "id": "Zun1rJHYKS8_"
      },
      "source": [
        "# Using MovieLens100K instead of MovieLens2M because my RAM Crashes on 2M points"
      ]
    },
    {
      "cell_type": "code",
      "metadata": {
        "id": "8DIV0NAy_pGN",
        "colab": {
          "base_uri": "https://localhost:8080/"
        },
        "outputId": "3008bfcc-00da-4d83-e529-5d12760d52b7"
      },
      "source": [
        "!pip3 install surprise"
      ],
      "execution_count": null,
      "outputs": [
        {
          "output_type": "stream",
          "name": "stdout",
          "text": [
            "Requirement already satisfied: surprise in /usr/local/lib/python3.7/dist-packages (0.1)\n",
            "Requirement already satisfied: scikit-surprise in /usr/local/lib/python3.7/dist-packages (from surprise) (1.1.1)\n",
            "Requirement already satisfied: joblib>=0.11 in /usr/local/lib/python3.7/dist-packages (from scikit-surprise->surprise) (1.1.0)\n",
            "Requirement already satisfied: scipy>=1.0.0 in /usr/local/lib/python3.7/dist-packages (from scikit-surprise->surprise) (1.4.1)\n",
            "Requirement already satisfied: six>=1.10.0 in /usr/local/lib/python3.7/dist-packages (from scikit-surprise->surprise) (1.15.0)\n",
            "Requirement already satisfied: numpy>=1.11.2 in /usr/local/lib/python3.7/dist-packages (from scikit-surprise->surprise) (1.19.5)\n"
          ]
        }
      ]
    },
    {
      "cell_type": "code",
      "metadata": {
        "id": "pjjcXABoyflz"
      },
      "source": [
        "import pandas as pd\n",
        "from surprise import SVD, similarities\n",
        "from surprise import Dataset, accuracy\n",
        "from surprise import NormalPredictor\n",
        "from surprise import Reader\n",
        "from surprise.prediction_algorithms.knns import KNNWithMeans\n",
        "from surprise.model_selection import cross_validate, train_test_split, KFold"
      ],
      "execution_count": null,
      "outputs": []
    },
    {
      "cell_type": "code",
      "metadata": {
        "id": "U30ElTIwPO3c"
      },
      "source": [
        "from surprise import BaselineOnly\n",
        "\n",
        "# A reader is still needed but only the rating_scale param is requiered.\n",
        "reader = Reader(rating_scale=(1, 5))\n",
        "\n",
        "# The columns must correspond to user id, item id and ratings (in that order).\n",
        "data = Dataset.load_from_df(rating[['userId', 'movieId', 'rating']], reader)\n"
      ],
      "execution_count": null,
      "outputs": []
    },
    {
      "cell_type": "markdown",
      "metadata": {
        "id": "M-7i93U5IGUe"
      },
      "source": [
        "The famous SVD algorithm, as popularized by Simon Funk during the Netflix Prize.\n",
        "When baselines are not used, this is equivalent to Probabilistic Matrix Factorization \n",
        "[salakhutdinov2008a] (see note below).."
      ]
    },
    {
      "cell_type": "markdown",
      "metadata": {
        "id": "Py1urfv0IWgy"
      },
      "source": [
        "# 3 C"
      ]
    },
    {
      "cell_type": "code",
      "metadata": {
        "colab": {
          "base_uri": "https://localhost:8080/"
        },
        "id": "_uJNN6fDHkO0",
        "outputId": "dbba140e-f590-4e65-c8d8-bbf38c1b68f7"
      },
      "source": [
        "# 3 c. [TYPE-1] Average MAE and RMSE for Probabilistic Matrix Factorization using 5 - Fold CF\n",
        "algo = SVD()\n",
        "results = cross_validate(algo, data, measures=['RMSE', 'MAE'], cv=5, verbose=True)"
      ],
      "execution_count": null,
      "outputs": [
        {
          "output_type": "stream",
          "name": "stdout",
          "text": [
            "Evaluating RMSE, MAE of algorithm SVD on 5 split(s).\n",
            "\n",
            "                  Fold 1  Fold 2  Fold 3  Fold 4  Fold 5  Mean    Std     \n",
            "RMSE (testset)    0.8930  0.9040  0.9013  0.8913  0.8934  0.8966  0.0051  \n",
            "MAE (testset)     0.6903  0.6970  0.6929  0.6864  0.6864  0.6906  0.0040  \n",
            "Fit time          4.92    4.99    4.89    4.89    4.89    4.92    0.04    \n",
            "Test time         0.33    0.17    0.33    0.15    0.16    0.23    0.08    \n"
          ]
        }
      ]
    },
    {
      "cell_type": "code",
      "metadata": {
        "colab": {
          "base_uri": "https://localhost:8080/"
        },
        "id": "_lnwY0UDPHsL",
        "outputId": "718afe03-4e04-4dc2-8201-7fc349215c2d"
      },
      "source": [
        "print(\"MAE on Test Set using 5 fold CV\", results['test_mae'].mean())\n",
        "print(\"RMSE on Test Set using 5 fold CV\", results['test_rmse'].mean())"
      ],
      "execution_count": null,
      "outputs": [
        {
          "output_type": "stream",
          "name": "stdout",
          "text": [
            "MAE on Test Set using 5 fold CV 0.6906214017883393\n",
            "RMSE on Test Set using 5 fold CV 0.896600488930272\n"
          ]
        }
      ]
    },
    {
      "cell_type": "code",
      "metadata": {
        "colab": {
          "base_uri": "https://localhost:8080/"
        },
        "id": "CNtYJxTVOqXb",
        "outputId": "4174bfa6-bd28-4c84-e645-7a37cd20bb75"
      },
      "source": [
        "# 3 c. [TYPE-2] Average MAE and RMSE for Item Base Collaborative Filtering using 5 - Fold CF\n",
        "sim_options = {\n",
        "    \"user_based\": False,\n",
        "}\n",
        "\n",
        "knn_m = KNNWithMeans(sim_options=sim_options)\n",
        "scores = cross_validate(knn_m, data, measures=['RMSE', 'MAE'], cv=5, verbose=True)\n",
        "\n",
        "mean_mae = scores['test_mae'].mean()\n",
        "mean_rsme = scores['test_rmse'].mean()\n",
        "\n",
        "print(f'Average MAE: {mean_mae}')\n",
        "print(f'Average RMSE: {mean_rsme}')"
      ],
      "execution_count": null,
      "outputs": [
        {
          "output_type": "stream",
          "name": "stdout",
          "text": [
            "Computing the msd similarity matrix...\n",
            "Done computing similarity matrix.\n",
            "Computing the msd similarity matrix...\n",
            "Done computing similarity matrix.\n",
            "Computing the msd similarity matrix...\n",
            "Done computing similarity matrix.\n",
            "Computing the msd similarity matrix...\n",
            "Done computing similarity matrix.\n",
            "Computing the msd similarity matrix...\n",
            "Done computing similarity matrix.\n",
            "Evaluating RMSE, MAE of algorithm KNNWithMeans on 5 split(s).\n",
            "\n",
            "                  Fold 1  Fold 2  Fold 3  Fold 4  Fold 5  Mean    Std     \n",
            "RMSE (testset)    0.9144  0.9162  0.9239  0.9017  0.9084  0.9129  0.0075  \n",
            "MAE (testset)     0.7024  0.7017  0.7055  0.6920  0.6965  0.6996  0.0048  \n",
            "Fit time          4.88    4.61    4.15    4.10    4.07    4.36    0.32    \n",
            "Test time         8.55    8.45    8.52    8.52    8.35    8.48    0.07    \n",
            "Average MAE: 0.6996255634681613\n",
            "Average RMSE: 0.9129240159765265\n"
          ]
        }
      ]
    },
    {
      "cell_type": "code",
      "metadata": {
        "id": "l8sr_kmhPdUf",
        "colab": {
          "base_uri": "https://localhost:8080/"
        },
        "outputId": "d8f06426-4071-4715-ff47-1f0d04b8474f"
      },
      "source": [
        "# 3 c. [TYPE-3] Average MAE and RMSE for User Base Collaborative Filtering using 5 - Fold CF\n",
        "sim_options = {\n",
        "    \"user_based\": True,\n",
        "}\n",
        "\n",
        "knn_m = KNNWithMeans(sim_options=sim_options)\n",
        "scores = cross_validate(knn_m, data, measures=['RMSE', 'MAE'], cv=5, verbose=True)\n",
        "\n",
        "mean_mae = scores['test_mae'].mean()\n",
        "mean_rsme = scores['test_rmse'].mean()\n",
        "\n",
        "print(f'Average MAE: {mean_mae}')\n",
        "print(f'Average RMSE: {mean_rsme}')"
      ],
      "execution_count": null,
      "outputs": [
        {
          "output_type": "stream",
          "name": "stdout",
          "text": [
            "Computing the msd similarity matrix...\n",
            "Done computing similarity matrix.\n",
            "Computing the msd similarity matrix...\n",
            "Done computing similarity matrix.\n",
            "Computing the msd similarity matrix...\n",
            "Done computing similarity matrix.\n",
            "Computing the msd similarity matrix...\n",
            "Done computing similarity matrix.\n",
            "Computing the msd similarity matrix...\n",
            "Done computing similarity matrix.\n",
            "Evaluating RMSE, MAE of algorithm KNNWithMeans on 5 split(s).\n",
            "\n",
            "                  Fold 1  Fold 2  Fold 3  Fold 4  Fold 5  Mean    Std     \n",
            "RMSE (testset)    0.9286  0.9215  0.9173  0.9061  0.9145  0.9176  0.0075  \n",
            "MAE (testset)     0.7110  0.7045  0.7031  0.6936  0.7012  0.7027  0.0056  \n",
            "Fit time          0.18    0.20    0.22    0.21    0.21    0.21    0.01    \n",
            "Test time         2.09    1.91    1.91    2.04    1.91    1.97    0.08    \n",
            "Average MAE: 0.7026952955014842\n",
            "Average RMSE: 0.9175981535360893\n"
          ]
        }
      ]
    },
    {
      "cell_type": "markdown",
      "metadata": {
        "id": "VgzIjJYkpCZ9"
      },
      "source": [
        "Report : <br>\n",
        "Item Based Collaborative Filtering was better than User Based CF and PMF.<br>\n",
        "MAE and RMSE Errors were less for Item-Based CF"
      ]
    },
    {
      "cell_type": "markdown",
      "metadata": {
        "id": "H1vF_v1Lo3Lc"
      },
      "source": [
        "## 3 E Effect of Cosine, MSD, Pearson Similarities on Collaborative Filtering"
      ]
    },
    {
      "cell_type": "code",
      "metadata": {
        "id": "9OQGikYfofxy",
        "colab": {
          "base_uri": "https://localhost:8080/"
        },
        "outputId": "2503590e-010a-4deb-e051-e57e9ce445b7"
      },
      "source": [
        "# 3 e. [TYPE-1] Comparing Cosine, MSD, Pearson Similarities on Item Based CF\n",
        "similarity_names = ['cosine','msd','pearson']\n",
        "mean_mae_item = []\n",
        "mean_rmse_item = []\n",
        "for name in similarity_names:\n",
        "  sim_options = {\n",
        "    \"user_based\": False,\n",
        "    \"name\": name\n",
        "  }\n",
        "\n",
        "  knn_m = KNNWithMeans(sim_options=sim_options)\n",
        "  scores = cross_validate(knn_m, data, measures=['RMSE', 'MAE'], cv=5, verbose=True)\n",
        "\n",
        "  mean_mae_item.append(scores['test_mae'].mean())\n",
        "  mean_rmse_item.append(scores['test_rmse'].mean())\n"
      ],
      "execution_count": null,
      "outputs": [
        {
          "output_type": "stream",
          "name": "stdout",
          "text": [
            "Computing the cosine similarity matrix...\n",
            "Done computing similarity matrix.\n",
            "Computing the cosine similarity matrix...\n",
            "Done computing similarity matrix.\n",
            "Computing the cosine similarity matrix...\n",
            "Done computing similarity matrix.\n",
            "Computing the cosine similarity matrix...\n",
            "Done computing similarity matrix.\n",
            "Computing the cosine similarity matrix...\n",
            "Done computing similarity matrix.\n",
            "Evaluating RMSE, MAE of algorithm KNNWithMeans on 5 split(s).\n",
            "\n",
            "                  Fold 1  Fold 2  Fold 3  Fold 4  Fold 5  Mean    Std     \n",
            "RMSE (testset)    0.9305  0.9200  0.9287  0.9237  0.9260  0.9258  0.0037  \n",
            "MAE (testset)     0.7099  0.7060  0.7118  0.7103  0.7109  0.7098  0.0020  \n",
            "Fit time          14.22   14.75   14.22   14.54   14.40   14.43   0.20    \n",
            "Test time         8.32    8.32    8.29    8.37    8.32    8.32    0.03    \n",
            "Computing the msd similarity matrix...\n",
            "Done computing similarity matrix.\n",
            "Computing the msd similarity matrix...\n",
            "Done computing similarity matrix.\n",
            "Computing the msd similarity matrix...\n",
            "Done computing similarity matrix.\n",
            "Computing the msd similarity matrix...\n",
            "Done computing similarity matrix.\n",
            "Computing the msd similarity matrix...\n",
            "Done computing similarity matrix.\n",
            "Evaluating RMSE, MAE of algorithm KNNWithMeans on 5 split(s).\n",
            "\n",
            "                  Fold 1  Fold 2  Fold 3  Fold 4  Fold 5  Mean    Std     \n",
            "RMSE (testset)    0.9173  0.9114  0.9136  0.9190  0.9103  0.9143  0.0033  \n",
            "MAE (testset)     0.7042  0.6971  0.6970  0.7050  0.6989  0.7005  0.0035  \n",
            "Fit time          4.21    4.13    5.33    4.30    4.32    4.46    0.44    \n",
            "Test time         8.65    8.85    9.28    8.71    8.55    8.81    0.26    \n",
            "Computing the pearson similarity matrix...\n",
            "Done computing similarity matrix.\n",
            "Computing the pearson similarity matrix...\n",
            "Done computing similarity matrix.\n",
            "Computing the pearson similarity matrix...\n",
            "Done computing similarity matrix.\n",
            "Computing the pearson similarity matrix...\n",
            "Done computing similarity matrix.\n",
            "Computing the pearson similarity matrix...\n",
            "Done computing similarity matrix.\n",
            "Evaluating RMSE, MAE of algorithm KNNWithMeans on 5 split(s).\n",
            "\n",
            "                  Fold 1  Fold 2  Fold 3  Fold 4  Fold 5  Mean    Std     \n",
            "RMSE (testset)    0.9316  0.9245  0.9260  0.9291  0.9262  0.9275  0.0025  \n",
            "MAE (testset)     0.7110  0.7054  0.7057  0.7075  0.7065  0.7072  0.0020  \n",
            "Fit time          18.63   20.67   18.80   19.26   19.12   19.30   0.72    \n",
            "Test time         8.49    8.59    8.32    8.43    8.53    8.47    0.09    \n"
          ]
        }
      ]
    },
    {
      "cell_type": "code",
      "metadata": {
        "colab": {
          "base_uri": "https://localhost:8080/"
        },
        "id": "AxZUE4CptKS6",
        "outputId": "01af7788-2b4f-4f37-9567-d9b241654e4e"
      },
      "source": [
        "print(f'Similarity Measure: {similarity_names}')\n",
        "print(f'Average MAE: {mean_mae_item}')\n",
        "print(f'Average RMSE: {mean_rmse_item}')"
      ],
      "execution_count": null,
      "outputs": [
        {
          "output_type": "stream",
          "name": "stdout",
          "text": [
            "Similarity Measure: ['cosine', 'msd', 'pearson']\n",
            "Average MAE: [0.7097699197011977, 0.7004511594591187, 0.7072188984236631]\n",
            "Average RMSE: [0.9257726628275578, 0.914326246743413, 0.9274994413777398]\n"
          ]
        }
      ]
    },
    {
      "cell_type": "code",
      "metadata": {
        "colab": {
          "base_uri": "https://localhost:8080/"
        },
        "id": "KKSioFc8rrFZ",
        "outputId": "6a951a02-071f-4ce6-aed8-8dc0a621692a"
      },
      "source": [
        "# 3 e. [TYPE-2] Comparing Cosine, MSD, Pearson Similarities on User Based CF\n",
        "similarity_names = ['cosine','msd','pearson']\n",
        "mean_mae_user = []\n",
        "mean_rmse_user = []\n",
        "for name in similarity_names:\n",
        "  sim_options = {\n",
        "    \"user_based\": True,\n",
        "    \"name\": name\n",
        "  }\n",
        "\n",
        "  knn_m = KNNWithMeans(sim_options=sim_options)\n",
        "  scores = cross_validate(knn_m, data, measures=['RMSE', 'MAE'], cv=5, verbose=True)\n",
        "\n",
        "  mean_mae_user.append(scores['test_mae'].mean())\n",
        "  mean_rmse_user.append(scores['test_rmse'].mean())\n"
      ],
      "execution_count": null,
      "outputs": [
        {
          "output_type": "stream",
          "name": "stdout",
          "text": [
            "Computing the cosine similarity matrix...\n",
            "Done computing similarity matrix.\n",
            "Computing the cosine similarity matrix...\n",
            "Done computing similarity matrix.\n",
            "Computing the cosine similarity matrix...\n",
            "Done computing similarity matrix.\n",
            "Computing the cosine similarity matrix...\n",
            "Done computing similarity matrix.\n",
            "Computing the cosine similarity matrix...\n",
            "Done computing similarity matrix.\n",
            "Evaluating RMSE, MAE of algorithm KNNWithMeans on 5 split(s).\n",
            "\n",
            "                  Fold 1  Fold 2  Fold 3  Fold 4  Fold 5  Mean    Std     \n",
            "RMSE (testset)    0.9218  0.9183  0.9135  0.9285  0.9263  0.9217  0.0054  \n",
            "MAE (testset)     0.7078  0.7050  0.6997  0.7096  0.7096  0.7063  0.0037  \n",
            "Fit time          0.45    0.46    0.50    0.46    0.50    0.48    0.02    \n",
            "Test time         2.00    2.07    1.93    1.98    2.07    2.01    0.05    \n",
            "Computing the msd similarity matrix...\n",
            "Done computing similarity matrix.\n",
            "Computing the msd similarity matrix...\n",
            "Done computing similarity matrix.\n",
            "Computing the msd similarity matrix...\n",
            "Done computing similarity matrix.\n",
            "Computing the msd similarity matrix...\n",
            "Done computing similarity matrix.\n",
            "Computing the msd similarity matrix...\n",
            "Done computing similarity matrix.\n",
            "Evaluating RMSE, MAE of algorithm KNNWithMeans on 5 split(s).\n",
            "\n",
            "                  Fold 1  Fold 2  Fold 3  Fold 4  Fold 5  Mean    Std     \n",
            "RMSE (testset)    0.9176  0.9163  0.9252  0.9237  0.9159  0.9197  0.0039  \n",
            "MAE (testset)     0.6989  0.7015  0.7091  0.7077  0.7029  0.7040  0.0038  \n",
            "Fit time          0.17    0.22    0.22    0.21    0.24    0.21    0.02    \n",
            "Test time         1.99    2.07    1.97    1.94    2.06    2.01    0.05    \n",
            "Computing the pearson similarity matrix...\n",
            "Done computing similarity matrix.\n",
            "Computing the pearson similarity matrix...\n",
            "Done computing similarity matrix.\n",
            "Computing the pearson similarity matrix...\n",
            "Done computing similarity matrix.\n",
            "Computing the pearson similarity matrix...\n",
            "Done computing similarity matrix.\n",
            "Computing the pearson similarity matrix...\n",
            "Done computing similarity matrix.\n",
            "Evaluating RMSE, MAE of algorithm KNNWithMeans on 5 split(s).\n",
            "\n",
            "                  Fold 1  Fold 2  Fold 3  Fold 4  Fold 5  Mean    Std     \n",
            "RMSE (testset)    0.9290  0.9253  0.9217  0.9170  0.9265  0.9239  0.0042  \n",
            "MAE (testset)     0.7083  0.7082  0.7022  0.7010  0.7053  0.7050  0.0030  \n",
            "Fit time          0.58    0.61    0.64    0.65    0.62    0.62    0.02    \n",
            "Test time         1.94    2.02    1.89    1.91    2.03    1.96    0.06    \n"
          ]
        }
      ]
    },
    {
      "cell_type": "code",
      "metadata": {
        "colab": {
          "base_uri": "https://localhost:8080/"
        },
        "id": "D8QbYSKetWK2",
        "outputId": "0818053e-5ea8-46c4-c5d6-c82af14be162"
      },
      "source": [
        "print(f'Similarity Measure: {similarity_names}')\n",
        "print(f'Average MAE: {mean_mae_user}')\n",
        "print(f'Average RMSE: {mean_rmse_user}')"
      ],
      "execution_count": null,
      "outputs": [
        {
          "output_type": "stream",
          "name": "stdout",
          "text": [
            "Similarity Measure: ['cosine', 'msd', 'pearson']\n",
            "Average MAE: [0.7063335993037307, 0.7040116253949179, 0.7050282375599093]\n",
            "Average RMSE: [0.9216821418299576, 0.9197328141608094, 0.9238979977936289]\n"
          ]
        }
      ]
    },
    {
      "cell_type": "code",
      "metadata": {
        "id": "R_sG7gl-twDy"
      },
      "source": [
        "import matplotlib.pyplot as plt\n",
        "import numpy as np"
      ],
      "execution_count": null,
      "outputs": []
    },
    {
      "cell_type": "code",
      "metadata": {
        "colab": {
          "base_uri": "https://localhost:8080/",
          "height": 334
        },
        "id": "omM6Um9Vt3Um",
        "outputId": "3e990c45-0814-4612-a03c-38041ff9c1b3"
      },
      "source": [
        "ind = np.arange(len(similarity_names))\n",
        "plt.figure(figsize=(10,5))\n",
        "plt.bar(ind, mean_mae_item, 0.5, label='MAE')\n",
        "plt.bar(ind + 0.5, mean_rmse_item, 0.5, label='RMSE')\n",
        "\n",
        "\n",
        "plt.xlabel('measures')\n",
        "plt.ylabel('scoring')\n",
        "\n",
        "\n",
        "plt.legend(loc='best')\n",
        "plt.show()"
      ],
      "execution_count": null,
      "outputs": [
        {
          "output_type": "display_data",
          "data": {
            "image/png": "[encoded data removed]",
            "text/plain": [
              "<Figure size 720x360 with 1 Axes>"
            ]
          },
          "metadata": {
            "needs_background": "light"
          }
        }
      ]
    },
    {
      "cell_type": "code",
      "metadata": {
        "colab": {
          "base_uri": "https://localhost:8080/",
          "height": 224
        },
        "id": "FYVB2yfKt3Pz",
        "outputId": "23243416-5ca7-4e94-8937-48862c095f44"
      },
      "source": [
        "ifig=1\n",
        "labels = ['USER-BASED COLLAB. FILTERING', 'ITEM-BASED COLLAB. FILTERING']\n",
        "x = np.arange(0, len(labels) * 2.5, 2.5)\n",
        "width = 0.5\n",
        "plt.figure(ifig)\n",
        "fig, ax = plt.subplots(figsize=(18,5))\n",
        "for i in range(len(similarity_names)):\n",
        "    ax.bar(x - (width * len(similarity_names)) / 2 + i * width, [mean_mae_user[i], mean_mae_item[i]], width, label=similarity_names[i])\n",
        "plt.xticks(x - width / 2, labels)\n",
        "plt.title('ITEM AND USER BASED COLLABORATIVE FILTERING FOR MAE')\n",
        "plt.ylabel('mae')\n",
        "plt.grid(axis='y')\n",
        "plt.legend()\n",
        "plt.show()"
      ],
      "execution_count": null,
      "outputs": [
        {
          "output_type": "display_data",
          "data": {
            "text/plain": [
              "<Figure size 432x288 with 0 Axes>"
            ]
          },
          "metadata": {}
        },
        {
          "output_type": "display_data",
          "data": {
            "image/png": "[encoded data removed]",
            "text/plain": [
              "<Figure size 1296x360 with 1 Axes>"
            ]
          },
          "metadata": {
            "needs_background": "light"
          }
        }
      ]
    },
    {
      "cell_type": "markdown",
      "metadata": {
        "id": "5VF6VH7Azdsf"
      },
      "source": [
        ""
      ]
    },
    {
      "cell_type": "markdown",
      "metadata": {
        "id": "9aXDaAzhterf"
      },
      "source": [
        "Impact of K on Collaborative Filtering"
      ]
    },
    {
      "cell_type": "code",
      "metadata": {
        "colab": {
          "base_uri": "https://localhost:8080/"
        },
        "id": "l38rZEmpt3F3",
        "outputId": "be4f4788-2642-4b67-f242-e3f34ed35828"
      },
      "source": [
        "#3f)\n",
        "ks = np.arange(1, 20, 1)\n",
        "\n",
        "\n",
        "ub_mae = []\n",
        "ub_rmse = []\n",
        "\n",
        "for k in ks: \n",
        "    \n",
        "    sim_options = {\n",
        "    \"user_based\": True, \n",
        "    }\n",
        "    \n",
        "    \n",
        "    knn_m = KNNWithMeans(k, sim_options=sim_options)\n",
        "    scores = cross_validate(knn_m, data, measures=['RMSE', 'MAE'], cv=5, verbose=True)\n",
        "    \n",
        "    \n",
        "    mean_mae = scores['test_mae'].mean()\n",
        "    mean_rsme = scores['test_rmse'].mean()\n",
        "    \n",
        "   \n",
        "    ub_mae.append(mean_mae)\n",
        "    ub_rmse.append(mean_rsme)"
      ],
      "execution_count": null,
      "outputs": [
        {
          "output_type": "stream",
          "name": "stdout",
          "text": [
            "Computing the msd similarity matrix...\n",
            "Done computing similarity matrix.\n",
            "Computing the msd similarity matrix...\n",
            "Done computing similarity matrix.\n",
            "Computing the msd similarity matrix...\n",
            "Done computing similarity matrix.\n",
            "Computing the msd similarity matrix...\n",
            "Done computing similarity matrix.\n",
            "Computing the msd similarity matrix...\n",
            "Done computing similarity matrix.\n",
            "Evaluating RMSE, MAE of algorithm KNNWithMeans on 5 split(s).\n",
            "\n",
            "                  Fold 1  Fold 2  Fold 3  Fold 4  Fold 5  Mean    Std     \n",
            "RMSE (testset)    1.1525  1.1491  1.1560  1.1438  1.1478  1.1498  0.0042  \n",
            "MAE (testset)     0.8872  0.8826  0.8938  0.8812  0.8841  0.8858  0.0045  \n",
            "Fit time          0.18    0.22    0.23    0.23    0.23    0.22    0.02    \n",
            "Test time         1.04    1.02    1.12    1.02    1.11    1.06    0.04    \n",
            "Computing the msd similarity matrix...\n",
            "Done computing similarity matrix.\n",
            "Computing the msd similarity matrix...\n",
            "Done computing similarity matrix.\n",
            "Computing the msd similarity matrix...\n",
            "Done computing similarity matrix.\n",
            "Computing the msd similarity matrix...\n",
            "Done computing similarity matrix.\n",
            "Computing the msd similarity matrix...\n",
            "Done computing similarity matrix.\n",
            "Evaluating RMSE, MAE of algorithm KNNWithMeans on 5 split(s).\n",
            "\n",
            "                  Fold 1  Fold 2  Fold 3  Fold 4  Fold 5  Mean    Std     \n",
            "RMSE (testset)    1.0267  1.0440  1.0408  1.0237  1.0261  1.0323  0.0084  \n",
            "MAE (testset)     0.7932  0.8056  0.8031  0.7921  0.7914  0.7971  0.0060  \n",
            "Fit time          0.17    0.22    0.24    0.22    0.26    0.22    0.03    \n",
            "Test time         1.19    1.21    1.31    1.20    1.31    1.24    0.06    \n",
            "Computing the msd similarity matrix...\n",
            "Done computing similarity matrix.\n",
            "Computing the msd similarity matrix...\n",
            "Done computing similarity matrix.\n",
            "Computing the msd similarity matrix...\n",
            "Done computing similarity matrix.\n",
            "Computing the msd similarity matrix...\n",
            "Done computing similarity matrix.\n",
            "Computing the msd similarity matrix...\n",
            "Done computing similarity matrix.\n",
            "Evaluating RMSE, MAE of algorithm KNNWithMeans on 5 split(s).\n",
            "\n",
            "                  Fold 1  Fold 2  Fold 3  Fold 4  Fold 5  Mean    Std     \n",
            "RMSE (testset)    0.9942  0.9941  1.0012  0.9922  0.9897  0.9943  0.0038  \n",
            "MAE (testset)     0.7693  0.7685  0.7751  0.7642  0.7663  0.7687  0.0037  \n",
            "Fit time          0.19    0.21    0.23    0.22    0.24    0.22    0.02    \n",
            "Test time         1.24    1.25    1.34    1.25    1.36    1.29    0.05    \n",
            "Computing the msd similarity matrix...\n",
            "Done computing similarity matrix.\n",
            "Computing the msd similarity matrix...\n",
            "Done computing similarity matrix.\n",
            "Computing the msd similarity matrix...\n",
            "Done computing similarity matrix.\n",
            "Computing the msd similarity matrix...\n",
            "Done computing similarity matrix.\n",
            "Computing the msd similarity matrix...\n",
            "Done computing similarity matrix.\n",
            "Evaluating RMSE, MAE of algorithm KNNWithMeans on 5 split(s).\n",
            "\n",
            "                  Fold 1  Fold 2  Fold 3  Fold 4  Fold 5  Mean    Std     \n",
            "RMSE (testset)    0.9685  0.9732  0.9669  0.9742  0.9660  0.9697  0.0033  \n",
            "MAE (testset)     0.7478  0.7529  0.7467  0.7504  0.7443  0.7484  0.0030  \n",
            "Fit time          0.18    0.21    0.24    0.22    0.24    0.22    0.02    \n",
            "Test time         1.31    1.40    1.42    1.32    1.43    1.38    0.05    \n",
            "Computing the msd similarity matrix...\n",
            "Done computing similarity matrix.\n",
            "Computing the msd similarity matrix...\n",
            "Done computing similarity matrix.\n",
            "Computing the msd similarity matrix...\n",
            "Done computing similarity matrix.\n",
            "Computing the msd similarity matrix...\n",
            "Done computing similarity matrix.\n",
            "Computing the msd similarity matrix...\n",
            "Done computing similarity matrix.\n",
            "Evaluating RMSE, MAE of algorithm KNNWithMeans on 5 split(s).\n",
            "\n",
            "                  Fold 1  Fold 2  Fold 3  Fold 4  Fold 5  Mean    Std     \n",
            "RMSE (testset)    0.9549  0.9591  0.9609  0.9632  0.9504  0.9577  0.0045  \n",
            "MAE (testset)     0.7384  0.7395  0.7390  0.7427  0.7318  0.7383  0.0036  \n",
            "Fit time          0.17    0.22    0.23    0.22    0.25    0.22    0.03    \n",
            "Test time         1.37    1.47    1.38    1.35    1.50    1.42    0.06    \n",
            "Computing the msd similarity matrix...\n",
            "Done computing similarity matrix.\n",
            "Computing the msd similarity matrix...\n",
            "Done computing similarity matrix.\n",
            "Computing the msd similarity matrix...\n",
            "Done computing similarity matrix.\n",
            "Computing the msd similarity matrix...\n",
            "Done computing similarity matrix.\n",
            "Computing the msd similarity matrix...\n",
            "Done computing similarity matrix.\n",
            "Evaluating RMSE, MAE of algorithm KNNWithMeans on 5 split(s).\n",
            "\n",
            "                  Fold 1  Fold 2  Fold 3  Fold 4  Fold 5  Mean    Std     \n",
            "RMSE (testset)    0.9602  0.9447  0.9393  0.9504  0.9496  0.9488  0.0069  \n",
            "MAE (testset)     0.7367  0.7281  0.7256  0.7323  0.7317  0.7309  0.0038  \n",
            "Fit time          0.19    0.21    0.23    0.21    0.25    0.22    0.02    \n",
            "Test time         1.38    1.52    1.39    1.41    1.51    1.44    0.06    \n",
            "Computing the msd similarity matrix...\n",
            "Done computing similarity matrix.\n",
            "Computing the msd similarity matrix...\n",
            "Done computing similarity matrix.\n",
            "Computing the msd similarity matrix...\n",
            "Done computing similarity matrix.\n",
            "Computing the msd similarity matrix...\n",
            "Done computing similarity matrix.\n",
            "Computing the msd similarity matrix...\n",
            "Done computing similarity matrix.\n",
            "Evaluating RMSE, MAE of algorithm KNNWithMeans on 5 split(s).\n",
            "\n",
            "                  Fold 1  Fold 2  Fold 3  Fold 4  Fold 5  Mean    Std     \n",
            "RMSE (testset)    0.9481  0.9360  0.9440  0.9459  0.9433  0.9434  0.0041  \n",
            "MAE (testset)     0.7304  0.7227  0.7254  0.7289  0.7258  0.7266  0.0027  \n",
            "Fit time          0.17    0.21    0.23    0.21    0.24    0.21    0.02    \n",
            "Test time         1.46    1.45    1.57    1.45    1.55    1.50    0.05    \n",
            "Computing the msd similarity matrix...\n",
            "Done computing similarity matrix.\n",
            "Computing the msd similarity matrix...\n",
            "Done computing similarity matrix.\n",
            "Computing the msd similarity matrix...\n",
            "Done computing similarity matrix.\n",
            "Computing the msd similarity matrix...\n",
            "Done computing similarity matrix.\n",
            "Computing the msd similarity matrix...\n",
            "Done computing similarity matrix.\n",
            "Evaluating RMSE, MAE of algorithm KNNWithMeans on 5 split(s).\n",
            "\n",
            "                  Fold 1  Fold 2  Fold 3  Fold 4  Fold 5  Mean    Std     \n",
            "RMSE (testset)    0.9378  0.9363  0.9387  0.9343  0.9421  0.9378  0.0026  \n",
            "MAE (testset)     0.7218  0.7207  0.7200  0.7192  0.7255  0.7215  0.0022  \n",
            "Fit time          0.16    0.21    0.24    0.21    0.26    0.22    0.03    \n",
            "Test time         1.47    1.54    1.45    1.46    1.56    1.50    0.05    \n",
            "Computing the msd similarity matrix...\n",
            "Done computing similarity matrix.\n",
            "Computing the msd similarity matrix...\n",
            "Done computing similarity matrix.\n",
            "Computing the msd similarity matrix...\n",
            "Done computing similarity matrix.\n",
            "Computing the msd similarity matrix...\n",
            "Done computing similarity matrix.\n",
            "Computing the msd similarity matrix...\n",
            "Done computing similarity matrix.\n",
            "Evaluating RMSE, MAE of algorithm KNNWithMeans on 5 split(s).\n",
            "\n",
            "                  Fold 1  Fold 2  Fold 3  Fold 4  Fold 5  Mean    Std     \n",
            "RMSE (testset)    0.9405  0.9348  0.9300  0.9299  0.9273  0.9325  0.0047  \n",
            "MAE (testset)     0.7252  0.7160  0.7139  0.7147  0.7172  0.7174  0.0040  \n",
            "Fit time          0.18    0.22    0.25    0.21    0.24    0.22    0.03    \n",
            "Test time         1.51    1.60    1.52    1.50    1.63    1.55    0.05    \n",
            "Computing the msd similarity matrix...\n",
            "Done computing similarity matrix.\n",
            "Computing the msd similarity matrix...\n",
            "Done computing similarity matrix.\n",
            "Computing the msd similarity matrix...\n",
            "Done computing similarity matrix.\n",
            "Computing the msd similarity matrix...\n",
            "Done computing similarity matrix.\n",
            "Computing the msd similarity matrix...\n",
            "Done computing similarity matrix.\n",
            "Evaluating RMSE, MAE of algorithm KNNWithMeans on 5 split(s).\n",
            "\n",
            "                  Fold 1  Fold 2  Fold 3  Fold 4  Fold 5  Mean    Std     \n",
            "RMSE (testset)    0.9259  0.9350  0.9322  0.9292  0.9315  0.9307  0.0030  \n",
            "MAE (testset)     0.7104  0.7207  0.7159  0.7132  0.7174  0.7155  0.0035  \n",
            "Fit time          0.17    0.21    0.23    0.21    0.24    0.21    0.03    \n",
            "Test time         1.53    1.56    1.67    1.57    1.68    1.60    0.06    \n",
            "Computing the msd similarity matrix...\n",
            "Done computing similarity matrix.\n",
            "Computing the msd similarity matrix...\n",
            "Done computing similarity matrix.\n",
            "Computing the msd similarity matrix...\n",
            "Done computing similarity matrix.\n",
            "Computing the msd similarity matrix...\n",
            "Done computing similarity matrix.\n",
            "Computing the msd similarity matrix...\n",
            "Done computing similarity matrix.\n",
            "Evaluating RMSE, MAE of algorithm KNNWithMeans on 5 split(s).\n",
            "\n",
            "                  Fold 1  Fold 2  Fold 3  Fold 4  Fold 5  Mean    Std     \n",
            "RMSE (testset)    0.9282  0.9305  0.9293  0.9313  0.9243  0.9287  0.0024  \n",
            "MAE (testset)     0.7135  0.7154  0.7123  0.7154  0.7093  0.7132  0.0023  \n",
            "Fit time          0.17    0.21    0.23    0.21    0.23    0.21    0.02    \n",
            "Test time         1.61    1.69    1.53    1.56    1.68    1.61    0.06    \n",
            "Computing the msd similarity matrix...\n",
            "Done computing similarity matrix.\n",
            "Computing the msd similarity matrix...\n",
            "Done computing similarity matrix.\n",
            "Computing the msd similarity matrix...\n",
            "Done computing similarity matrix.\n",
            "Computing the msd similarity matrix...\n",
            "Done computing similarity matrix.\n",
            "Computing the msd similarity matrix...\n",
            "Done computing similarity matrix.\n",
            "Evaluating RMSE, MAE of algorithm KNNWithMeans on 5 split(s).\n",
            "\n",
            "                  Fold 1  Fold 2  Fold 3  Fold 4  Fold 5  Mean    Std     \n",
            "RMSE (testset)    0.9297  0.9195  0.9229  0.9284  0.9310  0.9263  0.0044  \n",
            "MAE (testset)     0.7148  0.7063  0.7097  0.7127  0.7152  0.7117  0.0033  \n",
            "Fit time          0.18    0.21    0.25    0.21    0.25    0.22    0.02    \n",
            "Test time         1.61    1.69    1.61    1.63    1.74    1.65    0.05    \n",
            "Computing the msd similarity matrix...\n",
            "Done computing similarity matrix.\n",
            "Computing the msd similarity matrix...\n",
            "Done computing similarity matrix.\n",
            "Computing the msd similarity matrix...\n",
            "Done computing similarity matrix.\n",
            "Computing the msd similarity matrix...\n",
            "Done computing similarity matrix.\n",
            "Computing the msd similarity matrix...\n",
            "Done computing similarity matrix.\n",
            "Evaluating RMSE, MAE of algorithm KNNWithMeans on 5 split(s).\n",
            "\n",
            "                  Fold 1  Fold 2  Fold 3  Fold 4  Fold 5  Mean    Std     \n",
            "RMSE (testset)    0.9180  0.9328  0.9210  0.9364  0.9230  0.9263  0.0071  \n",
            "MAE (testset)     0.7059  0.7173  0.7041  0.7201  0.7075  0.7110  0.0064  \n",
            "Fit time          0.23    0.22    0.25    0.21    0.23    0.23    0.01    \n",
            "Test time         1.66    1.73    1.65    1.65    1.75    1.69    0.04    \n",
            "Computing the msd similarity matrix...\n",
            "Done computing similarity matrix.\n",
            "Computing the msd similarity matrix...\n",
            "Done computing similarity matrix.\n",
            "Computing the msd similarity matrix...\n",
            "Done computing similarity matrix.\n",
            "Computing the msd similarity matrix...\n",
            "Done computing similarity matrix.\n",
            "Computing the msd similarity matrix...\n",
            "Done computing similarity matrix.\n",
            "Evaluating RMSE, MAE of algorithm KNNWithMeans on 5 split(s).\n",
            "\n",
            "                  Fold 1  Fold 2  Fold 3  Fold 4  Fold 5  Mean    Std     \n",
            "RMSE (testset)    0.9302  0.9223  0.9203  0.9217  0.9295  0.9248  0.0042  \n",
            "MAE (testset)     0.7124  0.7106  0.7083  0.7081  0.7132  0.7105  0.0021  \n",
            "Fit time          0.23    0.23    0.22    0.24    0.23    0.23    0.01    \n",
            "Test time         1.70    1.79    1.70    1.72    1.64    1.71    0.05    \n",
            "Computing the msd similarity matrix...\n",
            "Done computing similarity matrix.\n",
            "Computing the msd similarity matrix...\n",
            "Done computing similarity matrix.\n",
            "Computing the msd similarity matrix...\n",
            "Done computing similarity matrix.\n",
            "Computing the msd similarity matrix...\n",
            "Done computing similarity matrix.\n",
            "Computing the msd similarity matrix...\n",
            "Done computing similarity matrix.\n",
            "Evaluating RMSE, MAE of algorithm KNNWithMeans on 5 split(s).\n",
            "\n",
            "                  Fold 1  Fold 2  Fold 3  Fold 4  Fold 5  Mean    Std     \n",
            "RMSE (testset)    0.9218  0.9169  0.9339  0.9228  0.9226  0.9236  0.0056  \n",
            "MAE (testset)     0.7074  0.7062  0.7177  0.7054  0.7095  0.7092  0.0045  \n",
            "Fit time          0.18    0.22    0.24    0.23    0.25    0.22    0.02    \n",
            "Test time         1.69    1.81    1.72    1.81    1.70    1.75    0.05    \n",
            "Computing the msd similarity matrix...\n",
            "Done computing similarity matrix.\n",
            "Computing the msd similarity matrix...\n",
            "Done computing similarity matrix.\n",
            "Computing the msd similarity matrix...\n",
            "Done computing similarity matrix.\n",
            "Computing the msd similarity matrix...\n",
            "Done computing similarity matrix.\n",
            "Computing the msd similarity matrix...\n",
            "Done computing similarity matrix.\n",
            "Evaluating RMSE, MAE of algorithm KNNWithMeans on 5 split(s).\n",
            "\n",
            "                  Fold 1  Fold 2  Fold 3  Fold 4  Fold 5  Mean    Std     \n",
            "RMSE (testset)    0.9249  0.9276  0.9209  0.9217  0.9222  0.9234  0.0025  \n",
            "MAE (testset)     0.7108  0.7111  0.7098  0.7028  0.7071  0.7083  0.0031  \n",
            "Fit time          0.18    0.21    0.26    0.22    0.26    0.23    0.03    \n",
            "Test time         1.84    1.85    1.72    1.84    1.73    1.80    0.06    \n",
            "Computing the msd similarity matrix...\n",
            "Done computing similarity matrix.\n",
            "Computing the msd similarity matrix...\n",
            "Done computing similarity matrix.\n",
            "Computing the msd similarity matrix...\n",
            "Done computing similarity matrix.\n",
            "Computing the msd similarity matrix...\n",
            "Done computing similarity matrix.\n",
            "Computing the msd similarity matrix...\n",
            "Done computing similarity matrix.\n",
            "Evaluating RMSE, MAE of algorithm KNNWithMeans on 5 split(s).\n",
            "\n",
            "                  Fold 1  Fold 2  Fold 3  Fold 4  Fold 5  Mean    Std     \n",
            "RMSE (testset)    0.9193  0.9246  0.9240  0.9308  0.9124  0.9222  0.0061  \n",
            "MAE (testset)     0.7064  0.7082  0.7088  0.7145  0.7013  0.7079  0.0043  \n",
            "Fit time          0.16    0.21    0.24    0.23    0.24    0.21    0.03    \n",
            "Test time         1.77    1.85    1.75    1.85    1.70    1.79    0.06    \n",
            "Computing the msd similarity matrix...\n",
            "Done computing similarity matrix.\n",
            "Computing the msd similarity matrix...\n",
            "Done computing similarity matrix.\n",
            "Computing the msd similarity matrix...\n",
            "Done computing similarity matrix.\n",
            "Computing the msd similarity matrix...\n",
            "Done computing similarity matrix.\n",
            "Computing the msd similarity matrix...\n",
            "Done computing similarity matrix.\n",
            "Evaluating RMSE, MAE of algorithm KNNWithMeans on 5 split(s).\n",
            "\n",
            "                  Fold 1  Fold 2  Fold 3  Fold 4  Fold 5  Mean    Std     \n",
            "RMSE (testset)    0.9265  0.9118  0.9198  0.9224  0.9343  0.9230  0.0074  \n",
            "MAE (testset)     0.7114  0.6996  0.7040  0.7085  0.7154  0.7078  0.0055  \n",
            "Fit time          0.17    0.23    0.24    0.22    0.24    0.22    0.03    \n",
            "Test time         1.87    1.79    1.74    1.88    1.75    1.81    0.06    \n",
            "Computing the msd similarity matrix...\n",
            "Done computing similarity matrix.\n",
            "Computing the msd similarity matrix...\n",
            "Done computing similarity matrix.\n",
            "Computing the msd similarity matrix...\n",
            "Done computing similarity matrix.\n",
            "Computing the msd similarity matrix...\n",
            "Done computing similarity matrix.\n",
            "Computing the msd similarity matrix...\n",
            "Done computing similarity matrix.\n",
            "Evaluating RMSE, MAE of algorithm KNNWithMeans on 5 split(s).\n",
            "\n",
            "                  Fold 1  Fold 2  Fold 3  Fold 4  Fold 5  Mean    Std     \n",
            "RMSE (testset)    0.9147  0.9254  0.9275  0.9206  0.9254  0.9227  0.0046  \n",
            "MAE (testset)     0.7057  0.7097  0.7078  0.7049  0.7098  0.7075  0.0020  \n",
            "Fit time          0.17    0.21    0.24    0.21    0.25    0.22    0.03    \n",
            "Test time         1.90    1.77    1.80    1.88    1.80    1.83    0.05    \n"
          ]
        }
      ]
    },
    {
      "cell_type": "code",
      "metadata": {
        "colab": {
          "base_uri": "https://localhost:8080/"
        },
        "id": "mEIkZKwmt3AG",
        "outputId": "7adbecc7-1280-4969-e7d6-0c28384c279c"
      },
      "source": [
        "ib_mae = []\n",
        "ib_rmse = []\n",
        "\n",
        "for k in ks: \n",
        "    sim_options = {\n",
        "    \"user_based\": False,  \n",
        "    }\n",
        "    \n",
        "    knn_m = KNNWithMeans(k, sim_options=sim_options)\n",
        "    scores = cross_validate(knn_m, data, measures=['RMSE', 'MAE'], cv=5, verbose=True)\n",
        "    \n",
        "    mean_mae = scores['test_mae'].mean()\n",
        "    mean_rsme = scores['test_rmse'].mean()\n",
        "    \n",
        "    ib_mae.append(mean_mae)\n",
        "    ib_rmse.append(mean_rsme)"
      ],
      "execution_count": null,
      "outputs": [
        {
          "output_type": "stream",
          "name": "stdout",
          "text": [
            "Computing the msd similarity matrix...\n",
            "Done computing similarity matrix.\n",
            "Computing the msd similarity matrix...\n",
            "Done computing similarity matrix.\n",
            "Computing the msd similarity matrix...\n",
            "Done computing similarity matrix.\n",
            "Computing the msd similarity matrix...\n",
            "Done computing similarity matrix.\n",
            "Computing the msd similarity matrix...\n",
            "Done computing similarity matrix.\n",
            "Evaluating RMSE, MAE of algorithm KNNWithMeans on 5 split(s).\n",
            "\n",
            "                  Fold 1  Fold 2  Fold 3  Fold 4  Fold 5  Mean    Std     \n",
            "RMSE (testset)    1.1735  1.1759  1.1839  1.1750  1.1799  1.1776  0.0038  \n",
            "MAE (testset)     0.8966  0.8961  0.9082  0.9032  0.9025  0.9013  0.0045  \n",
            "Fit time          4.15    4.10    4.19    4.88    4.19    4.30    0.29    \n",
            "Test time         6.24    6.31    6.11    6.35    6.04    6.21    0.12    \n",
            "Computing the msd similarity matrix...\n",
            "Done computing similarity matrix.\n",
            "Computing the msd similarity matrix...\n",
            "Done computing similarity matrix.\n",
            "Computing the msd similarity matrix...\n",
            "Done computing similarity matrix.\n",
            "Computing the msd similarity matrix...\n",
            "Done computing similarity matrix.\n",
            "Computing the msd similarity matrix...\n",
            "Done computing similarity matrix.\n",
            "Evaluating RMSE, MAE of algorithm KNNWithMeans on 5 split(s).\n",
            "\n",
            "                  Fold 1  Fold 2  Fold 3  Fold 4  Fold 5  Mean    Std     \n",
            "RMSE (testset)    1.0662  1.0584  1.0568  1.0569  1.0634  1.0603  0.0038  \n",
            "MAE (testset)     0.8197  0.8149  0.8143  0.8094  0.8192  0.8155  0.0037  \n",
            "Fit time          4.15    4.15    4.22    4.25    4.71    4.30    0.21    \n",
            "Test time         6.57    6.69    6.64    6.78    6.61    6.66    0.07    \n",
            "Computing the msd similarity matrix...\n",
            "Done computing similarity matrix.\n",
            "Computing the msd similarity matrix...\n",
            "Done computing similarity matrix.\n",
            "Computing the msd similarity matrix...\n",
            "Done computing similarity matrix.\n",
            "Computing the msd similarity matrix...\n",
            "Done computing similarity matrix.\n",
            "Computing the msd similarity matrix...\n",
            "Done computing similarity matrix.\n",
            "Evaluating RMSE, MAE of algorithm KNNWithMeans on 5 split(s).\n",
            "\n",
            "                  Fold 1  Fold 2  Fold 3  Fold 4  Fold 5  Mean    Std     \n",
            "RMSE (testset)    1.0213  1.0264  1.0167  1.0117  1.0101  1.0172  0.0061  \n",
            "MAE (testset)     0.7841  0.7921  0.7796  0.7812  0.7760  0.7826  0.0054  \n",
            "Fit time          4.20    4.20    4.31    4.20    4.67    4.31    0.18    \n",
            "Test time         6.82    6.89    6.79    6.87    6.70    6.81    0.07    \n",
            "Computing the msd similarity matrix...\n",
            "Done computing similarity matrix.\n",
            "Computing the msd similarity matrix...\n",
            "Done computing similarity matrix.\n",
            "Computing the msd similarity matrix...\n",
            "Done computing similarity matrix.\n",
            "Computing the msd similarity matrix...\n",
            "Done computing similarity matrix.\n",
            "Computing the msd similarity matrix...\n",
            "Done computing similarity matrix.\n",
            "Evaluating RMSE, MAE of algorithm KNNWithMeans on 5 split(s).\n",
            "\n",
            "                  Fold 1  Fold 2  Fold 3  Fold 4  Fold 5  Mean    Std     \n",
            "RMSE (testset)    0.9890  0.9955  0.9855  0.9962  0.9888  0.9910  0.0042  \n",
            "MAE (testset)     0.7608  0.7669  0.7586  0.7656  0.7585  0.7621  0.0035  \n",
            "Fit time          4.13    4.37    4.70    6.29    4.66    4.83    0.76    \n",
            "Test time         6.87    6.82    8.06    6.87    6.82    7.08    0.49    \n",
            "Computing the msd similarity matrix...\n",
            "Done computing similarity matrix.\n",
            "Computing the msd similarity matrix...\n",
            "Done computing similarity matrix.\n",
            "Computing the msd similarity matrix...\n",
            "Done computing similarity matrix.\n",
            "Computing the msd similarity matrix...\n",
            "Done computing similarity matrix.\n",
            "Computing the msd similarity matrix...\n",
            "Done computing similarity matrix.\n",
            "Evaluating RMSE, MAE of algorithm KNNWithMeans on 5 split(s).\n",
            "\n",
            "                  Fold 1  Fold 2  Fold 3  Fold 4  Fold 5  Mean    Std     \n",
            "RMSE (testset)    0.9720  0.9726  0.9718  0.9787  0.9808  0.9752  0.0038  \n",
            "MAE (testset)     0.7489  0.7490  0.7479  0.7495  0.7520  0.7495  0.0014  \n",
            "Fit time          4.58    4.42    4.54    4.30    4.46    4.46    0.10    \n",
            "Test time         6.92    6.90    7.08    6.90    6.98    6.95    0.07    \n",
            "Computing the msd similarity matrix...\n",
            "Done computing similarity matrix.\n",
            "Computing the msd similarity matrix...\n",
            "Done computing similarity matrix.\n",
            "Computing the msd similarity matrix...\n",
            "Done computing similarity matrix.\n",
            "Computing the msd similarity matrix...\n",
            "Done computing similarity matrix.\n",
            "Computing the msd similarity matrix...\n",
            "Done computing similarity matrix.\n",
            "Evaluating RMSE, MAE of algorithm KNNWithMeans on 5 split(s).\n",
            "\n",
            "                  Fold 1  Fold 2  Fold 3  Fold 4  Fold 5  Mean    Std     \n",
            "RMSE (testset)    0.9686  0.9569  0.9680  0.9517  0.9751  0.9640  0.0085  \n",
            "MAE (testset)     0.7452  0.7364  0.7435  0.7337  0.7481  0.7414  0.0054  \n",
            "Fit time          4.26    4.32    4.30    4.27    4.73    4.38    0.18    \n",
            "Test time         7.02    6.88    7.17    6.97    7.08    7.03    0.10    \n",
            "Computing the msd similarity matrix...\n",
            "Done computing similarity matrix.\n",
            "Computing the msd similarity matrix...\n",
            "Done computing similarity matrix.\n",
            "Computing the msd similarity matrix...\n",
            "Done computing similarity matrix.\n",
            "Computing the msd similarity matrix...\n",
            "Done computing similarity matrix.\n",
            "Computing the msd similarity matrix...\n",
            "Done computing similarity matrix.\n",
            "Evaluating RMSE, MAE of algorithm KNNWithMeans on 5 split(s).\n",
            "\n",
            "                  Fold 1  Fold 2  Fold 3  Fold 4  Fold 5  Mean    Std     \n",
            "RMSE (testset)    0.9551  0.9513  0.9550  0.9619  0.9574  0.9561  0.0035  \n",
            "MAE (testset)     0.7353  0.7320  0.7347  0.7386  0.7362  0.7354  0.0022  \n",
            "Fit time          4.24    4.31    4.77    4.48    4.58    4.48    0.19    \n",
            "Test time         7.17    7.04    7.15    7.18    7.15    7.14    0.05    \n",
            "Computing the msd similarity matrix...\n",
            "Done computing similarity matrix.\n",
            "Computing the msd similarity matrix...\n",
            "Done computing similarity matrix.\n",
            "Computing the msd similarity matrix...\n",
            "Done computing similarity matrix.\n",
            "Computing the msd similarity matrix...\n",
            "Done computing similarity matrix.\n",
            "Computing the msd similarity matrix...\n",
            "Done computing similarity matrix.\n",
            "Evaluating RMSE, MAE of algorithm KNNWithMeans on 5 split(s).\n",
            "\n",
            "                  Fold 1  Fold 2  Fold 3  Fold 4  Fold 5  Mean    Std     \n",
            "RMSE (testset)    0.9456  0.9517  0.9531  0.9473  0.9618  0.9519  0.0057  \n",
            "MAE (testset)     0.7314  0.7265  0.7311  0.7286  0.7393  0.7314  0.0043  \n",
            "Fit time          4.26    4.28    4.73    4.27    4.27    4.36    0.19    \n",
            "Test time         7.20    7.19    7.10    7.35    7.08    7.18    0.10    \n",
            "Computing the msd similarity matrix...\n",
            "Done computing similarity matrix.\n",
            "Computing the msd similarity matrix...\n",
            "Done computing similarity matrix.\n",
            "Computing the msd similarity matrix...\n",
            "Done computing similarity matrix.\n",
            "Computing the msd similarity matrix...\n",
            "Done computing similarity matrix.\n",
            "Computing the msd similarity matrix...\n",
            "Done computing similarity matrix.\n",
            "Evaluating RMSE, MAE of algorithm KNNWithMeans on 5 split(s).\n",
            "\n",
            "                  Fold 1  Fold 2  Fold 3  Fold 4  Fold 5  Mean    Std     \n",
            "RMSE (testset)    0.9467  0.9415  0.9495  0.9395  0.9432  0.9441  0.0036  \n",
            "MAE (testset)     0.7240  0.7249  0.7296  0.7215  0.7228  0.7245  0.0028  \n",
            "Fit time          4.21    4.26    4.72    4.33    4.42    4.39    0.18    \n",
            "Test time         7.36    7.23    7.36    7.41    7.37    7.35    0.06    \n",
            "Computing the msd similarity matrix...\n",
            "Done computing similarity matrix.\n",
            "Computing the msd similarity matrix...\n",
            "Done computing similarity matrix.\n",
            "Computing the msd similarity matrix...\n",
            "Done computing similarity matrix.\n",
            "Computing the msd similarity matrix...\n",
            "Done computing similarity matrix.\n",
            "Computing the msd similarity matrix...\n",
            "Done computing similarity matrix.\n",
            "Evaluating RMSE, MAE of algorithm KNNWithMeans on 5 split(s).\n",
            "\n",
            "                  Fold 1  Fold 2  Fold 3  Fold 4  Fold 5  Mean    Std     \n",
            "RMSE (testset)    0.9411  0.9437  0.9417  0.9448  0.9413  0.9425  0.0015  \n",
            "MAE (testset)     0.7254  0.7224  0.7229  0.7237  0.7209  0.7231  0.0015  \n",
            "Fit time          4.26    4.29    4.75    4.27    4.30    4.37    0.19    \n",
            "Test time         7.33    8.19    7.34    7.47    7.41    7.55    0.32    \n",
            "Computing the msd similarity matrix...\n",
            "Done computing similarity matrix.\n",
            "Computing the msd similarity matrix...\n",
            "Done computing similarity matrix.\n",
            "Computing the msd similarity matrix...\n",
            "Done computing similarity matrix.\n",
            "Computing the msd similarity matrix...\n",
            "Done computing similarity matrix.\n",
            "Computing the msd similarity matrix...\n",
            "Done computing similarity matrix.\n",
            "Evaluating RMSE, MAE of algorithm KNNWithMeans on 5 split(s).\n",
            "\n",
            "                  Fold 1  Fold 2  Fold 3  Fold 4  Fold 5  Mean    Std     \n",
            "RMSE (testset)    0.9330  0.9374  0.9379  0.9419  0.9404  0.9381  0.0030  \n",
            "MAE (testset)     0.7168  0.7188  0.7227  0.7229  0.7200  0.7202  0.0023  \n",
            "Fit time          4.22    4.23    4.82    4.19    4.23    4.34    0.24    \n",
            "Test time         7.48    7.59    7.47    7.29    7.53    7.47    0.10    \n",
            "Computing the msd similarity matrix...\n",
            "Done computing similarity matrix.\n",
            "Computing the msd similarity matrix...\n",
            "Done computing similarity matrix.\n",
            "Computing the msd similarity matrix...\n",
            "Done computing similarity matrix.\n",
            "Computing the msd similarity matrix...\n",
            "Done computing similarity matrix.\n",
            "Computing the msd similarity matrix...\n",
            "Done computing similarity matrix.\n",
            "Evaluating RMSE, MAE of algorithm KNNWithMeans on 5 split(s).\n",
            "\n",
            "                  Fold 1  Fold 2  Fold 3  Fold 4  Fold 5  Mean    Std     \n",
            "RMSE (testset)    0.9424  0.9269  0.9365  0.9371  0.9366  0.9359  0.0050  \n",
            "MAE (testset)     0.7225  0.7134  0.7197  0.7167  0.7173  0.7179  0.0030  \n",
            "Fit time          4.30    4.48    4.77    4.34    4.28    4.43    0.18    \n",
            "Test time         7.42    7.58    7.47    7.56    7.53    7.51    0.06    \n",
            "Computing the msd similarity matrix...\n",
            "Done computing similarity matrix.\n",
            "Computing the msd similarity matrix...\n",
            "Done computing similarity matrix.\n",
            "Computing the msd similarity matrix...\n",
            "Done computing similarity matrix.\n",
            "Computing the msd similarity matrix...\n",
            "Done computing similarity matrix.\n",
            "Computing the msd similarity matrix...\n",
            "Done computing similarity matrix.\n",
            "Evaluating RMSE, MAE of algorithm KNNWithMeans on 5 split(s).\n",
            "\n",
            "                  Fold 1  Fold 2  Fold 3  Fold 4  Fold 5  Mean    Std     \n",
            "RMSE (testset)    0.9336  0.9369  0.9357  0.9353  0.9285  0.9340  0.0030  \n",
            "MAE (testset)     0.7175  0.7208  0.7193  0.7186  0.7120  0.7176  0.0030  \n",
            "Fit time          4.33    4.42    4.29    4.34    4.83    4.44    0.20    \n",
            "Test time         7.75    7.78    7.74    7.70    7.76    7.75    0.03    \n",
            "Computing the msd similarity matrix...\n",
            "Done computing similarity matrix.\n",
            "Computing the msd similarity matrix...\n",
            "Done computing similarity matrix.\n",
            "Computing the msd similarity matrix...\n",
            "Done computing similarity matrix.\n",
            "Computing the msd similarity matrix...\n",
            "Done computing similarity matrix.\n",
            "Computing the msd similarity matrix...\n",
            "Done computing similarity matrix.\n",
            "Evaluating RMSE, MAE of algorithm KNNWithMeans on 5 split(s).\n",
            "\n",
            "                  Fold 1  Fold 2  Fold 3  Fold 4  Fold 5  Mean    Std     \n",
            "RMSE (testset)    0.9342  0.9323  0.9342  0.9314  0.9247  0.9314  0.0035  \n",
            "MAE (testset)     0.7209  0.7174  0.7151  0.7148  0.7082  0.7153  0.0041  \n",
            "Fit time          4.33    4.26    4.96    4.58    5.99    4.82    0.63    \n",
            "Test time         7.79    7.88    7.85    9.34    7.71    8.11    0.62    \n",
            "Computing the msd similarity matrix...\n",
            "Done computing similarity matrix.\n",
            "Computing the msd similarity matrix...\n",
            "Done computing similarity matrix.\n",
            "Computing the msd similarity matrix...\n",
            "Done computing similarity matrix.\n",
            "Computing the msd similarity matrix...\n",
            "Done computing similarity matrix.\n",
            "Computing the msd similarity matrix...\n",
            "Done computing similarity matrix.\n",
            "Evaluating RMSE, MAE of algorithm KNNWithMeans on 5 split(s).\n",
            "\n",
            "                  Fold 1  Fold 2  Fold 3  Fold 4  Fold 5  Mean    Std     \n",
            "RMSE (testset)    0.9309  0.9290  0.9174  0.9382  0.9302  0.9291  0.0067  \n",
            "MAE (testset)     0.7144  0.7120  0.7047  0.7186  0.7142  0.7128  0.0046  \n",
            "Fit time          4.49    4.77    5.10    4.22    4.85    4.69    0.30    \n",
            "Test time         7.72    7.82    7.76    7.81    7.82    7.79    0.04    \n",
            "Computing the msd similarity matrix...\n",
            "Done computing similarity matrix.\n",
            "Computing the msd similarity matrix...\n",
            "Done computing similarity matrix.\n",
            "Computing the msd similarity matrix...\n",
            "Done computing similarity matrix.\n",
            "Computing the msd similarity matrix...\n",
            "Done computing similarity matrix.\n",
            "Computing the msd similarity matrix...\n",
            "Done computing similarity matrix.\n",
            "Evaluating RMSE, MAE of algorithm KNNWithMeans on 5 split(s).\n",
            "\n",
            "                  Fold 1  Fold 2  Fold 3  Fold 4  Fold 5  Mean    Std     \n",
            "RMSE (testset)    0.9314  0.9201  0.9293  0.9290  0.9244  0.9268  0.0041  \n",
            "MAE (testset)     0.7138  0.7084  0.7147  0.7108  0.7112  0.7118  0.0022  \n",
            "Fit time          4.49    4.79    4.75    4.30    4.67    4.60    0.18    \n",
            "Test time         7.77    7.92    7.77    8.03    7.80    7.86    0.10    \n",
            "Computing the msd similarity matrix...\n",
            "Done computing similarity matrix.\n",
            "Computing the msd similarity matrix...\n",
            "Done computing similarity matrix.\n",
            "Computing the msd similarity matrix...\n",
            "Done computing similarity matrix.\n",
            "Computing the msd similarity matrix...\n",
            "Done computing similarity matrix.\n",
            "Computing the msd similarity matrix...\n",
            "Done computing similarity matrix.\n",
            "Evaluating RMSE, MAE of algorithm KNNWithMeans on 5 split(s).\n",
            "\n",
            "                  Fold 1  Fold 2  Fold 3  Fold 4  Fold 5  Mean    Std     \n",
            "RMSE (testset)    0.9257  0.9220  0.9248  0.9331  0.9237  0.9259  0.0038  \n",
            "MAE (testset)     0.7107  0.7090  0.7096  0.7143  0.7090  0.7105  0.0020  \n",
            "Fit time          4.31    5.04    4.32    4.82    4.96    4.69    0.31    \n",
            "Test time         8.02    7.98    7.93    8.10    7.97    8.00    0.06    \n",
            "Computing the msd similarity matrix...\n",
            "Done computing similarity matrix.\n",
            "Computing the msd similarity matrix...\n",
            "Done computing similarity matrix.\n",
            "Computing the msd similarity matrix...\n",
            "Done computing similarity matrix.\n",
            "Computing the msd similarity matrix...\n",
            "Done computing similarity matrix.\n",
            "Computing the msd similarity matrix...\n",
            "Done computing similarity matrix.\n",
            "Evaluating RMSE, MAE of algorithm KNNWithMeans on 5 split(s).\n",
            "\n",
            "                  Fold 1  Fold 2  Fold 3  Fold 4  Fold 5  Mean    Std     \n",
            "RMSE (testset)    0.9234  0.9182  0.9267  0.9233  0.9322  0.9248  0.0046  \n",
            "MAE (testset)     0.7059  0.7075  0.7117  0.7090  0.7142  0.7097  0.0030  \n",
            "Fit time          4.26    4.74    4.81    4.34    4.77    4.58    0.24    \n",
            "Test time         7.84    8.08    7.89    8.01    7.88    7.94    0.09    \n",
            "Computing the msd similarity matrix...\n",
            "Done computing similarity matrix.\n",
            "Computing the msd similarity matrix...\n",
            "Done computing similarity matrix.\n",
            "Computing the msd similarity matrix...\n",
            "Done computing similarity matrix.\n",
            "Computing the msd similarity matrix...\n",
            "Done computing similarity matrix.\n",
            "Computing the msd similarity matrix...\n",
            "Done computing similarity matrix.\n",
            "Evaluating RMSE, MAE of algorithm KNNWithMeans on 5 split(s).\n",
            "\n",
            "                  Fold 1  Fold 2  Fold 3  Fold 4  Fold 5  Mean    Std     \n",
            "RMSE (testset)    0.9211  0.9262  0.9243  0.9255  0.9244  0.9243  0.0018  \n",
            "MAE (testset)     0.7057  0.7119  0.7092  0.7093  0.7096  0.7091  0.0020  \n",
            "Fit time          4.28    4.84    4.82    4.77    4.39    4.62    0.24    \n",
            "Test time         8.00    8.14    8.14    8.17    8.16    8.12    0.06    \n"
          ]
        }
      ]
    },
    {
      "cell_type": "code",
      "metadata": {
        "colab": {
          "base_uri": "https://localhost:8080/",
          "height": 1000
        },
        "id": "wkPJOw6it2xu",
        "outputId": "75dae6e5-b8f5-42cb-c32e-b80a0faaaa0f"
      },
      "source": [
        "plt.figure(figsize=(10,5))\n",
        "plt.plot(ks, ub_rmse)\n",
        "plt.title('NEIGHBOURS FOR RMSE ON USER-BASED COLLAB. FILTERING')\n",
        "plt.xlabel('neighbors')\n",
        "plt.ylabel('RMSE')\n",
        "\n",
        "plt.show()\n",
        "\n",
        "plt.figure(figsize=(10,5))\n",
        "plt.plot(ks, ib_rmse)\n",
        "plt.title('NEIGHBOURS FOR RMSE ON ITEM-BASED COLLAB. FILTERING')\n",
        "plt.xlabel('neighbors')\n",
        "plt.ylabel('RMSE')\n",
        "\n",
        "plt.show()\n",
        "\n",
        "plt.figure(figsize=(10,5))\n",
        "plt.plot(ks, ub_mae)\n",
        "plt.title('NEIGHBOURS FOR MAE ON USER-BASED COLLAB. FILTERING')\n",
        "plt.xlabel('neighbors')\n",
        "plt.ylabel('MAE')\n",
        "\n",
        "plt.show()\n",
        "\n",
        "plt.figure(figsize=(10,5))\n",
        "plt.plot(ks, ib_mae)\n",
        "plt.title('NEIGHBOURS FOR RMSE ON ITEM-BASED COLLAB. FILTERING')\n",
        "plt.xlabel('neighbors')\n",
        "plt.ylabel('MAE')\n",
        "\n",
        "\n",
        "plt.show()\n",
        "\n"
      ],
      "execution_count": null,
      "outputs": [
        {
          "output_type": "display_data",
          "data": {
            "image/png": "[encoded data removed]",
            "text/plain": [
              "<Figure size 720x360 with 1 Axes>"
            ]
          },
          "metadata": {
            "needs_background": "light"
          }
        },
        {
          "output_type": "display_data",
          "data": {
            "image/png": "[encoded data removed]",
            "text/plain": [
              "<Figure size 720x360 with 1 Axes>"
            ]
          },
          "metadata": {
            "needs_background": "light"
          }
        },
        {
          "output_type": "display_data",
          "data": {
            "image/png": "[encoded data removed]",
            "text/plain": [
              "<Figure size 720x360 with 1 Axes>"
            ]
          },
          "metadata": {
            "needs_background": "light"
          }
        },
        {
          "output_type": "display_data",
          "data": {
            "image/png": "[encoded data removed]",
            "text/plain": [
              "<Figure size 720x360 with 1 Axes>"
            ]
          },
          "metadata": {
            "needs_background": "light"
          }
        }
      ]
    },
    {
      "cell_type": "code",
      "metadata": {
        "id": "w29XRuAT0520",
        "colab": {
          "base_uri": "https://localhost:8080/"
        },
        "outputId": "e837337f-28e0-469c-9bb5-3b57e44938e0"
      },
      "source": [
        "#3g)\n",
        "print('USER-BASED COLLAB. FILTERING - MAE')\n",
        "print('Best K: ', ks[np.argmin(ub_mae)])\n",
        "print('Best K MAE: ', np.min(ub_mae))\n",
        "\n",
        "print('\\nUSER-BASED COLLAB. FILTERING - RMSE')\n",
        "print('Best K: ', ks[np.argmin(ub_rmse)])\n",
        "print('Best K RMSE: ', np.min(ub_rmse))\n",
        "\n",
        "print('\\nITEM-BASED COLLAB. FILTERING - MAE')\n",
        "print('Best K: ', ks[np.argmin(ib_mae)])\n",
        "print('Best K MAE: ', np.min(ib_mae))\n",
        "\n",
        "print('\\nITEM-BASED COLLAB. FILTERING - RMSE')\n",
        "print('Best K: ', ks[np.argmin(ib_rmse)])\n",
        "print('Best K RMSE: ', np.min(ib_rmse))"
      ],
      "execution_count": null,
      "outputs": [
        {
          "output_type": "stream",
          "name": "stdout",
          "text": [
            "USER-BASED COLLAB. FILTERING - MAE\n",
            "Best K:  19\n",
            "Best K MAE:  0.7075470630327005\n",
            "\n",
            "USER-BASED COLLAB. FILTERING - RMSE\n",
            "Best K:  17\n",
            "Best K RMSE:  0.9221970760811438\n",
            "\n",
            "ITEM-BASED COLLAB. FILTERING - MAE\n",
            "Best K:  19\n",
            "Best K MAE:  0.7091130039311003\n",
            "\n",
            "ITEM-BASED COLLAB. FILTERING - RMSE\n",
            "Best K:  19\n",
            "Best K RMSE:  0.9242947995986487\n"
          ]
        }
      ]
    }
  ]
}